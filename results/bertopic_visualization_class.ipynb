{
 "cells": [
  {
   "cell_type": "code",
   "execution_count": 1,
   "metadata": {},
   "outputs": [],
   "source": [
    "from bertopic import BERTopic\n",
    "import pandas as pd"
   ]
  },
  {
   "attachments": {},
   "cell_type": "markdown",
   "metadata": {},
   "source": [
    "# Functions"
   ]
  },
  {
   "cell_type": "code",
   "execution_count": 2,
   "metadata": {},
   "outputs": [],
   "source": [
    "def visualize_version(model, df, class_model, versions, threshold=1, width=1200, height=600, remove_outliers=False, sort_yaxes=False):\n",
    "    \"\"\"\n",
    "    Parameters:\n",
    "        model:          topic_model\n",
    "        df:             review_dataset\n",
    "        class_model:    class model created using the topic_model.topics_per_class() method\n",
    "        versions:       array object with the version names\n",
    "        threshold:      remove topics with freq below threshold\n",
    "        width:          width of the graph\n",
    "        height:         height of the graph\n",
    "    \"\"\"\n",
    "\n",
    "    df = class_model[class_model['Class'].isin(versions)].sort_values(by=['Frequency'], ascending=False)\n",
    "    if threshold:\n",
    "        df = df[df['Frequency'] >= threshold]\n",
    "    if remove_outliers:\n",
    "        df = df[df['Topic'] != -1]\n",
    "\n",
    "    topic_list = list(dict.fromkeys(list(df['Topic'])))\n",
    "\n",
    "    graph = BERTopic.visualize_topics_per_class(model, df, topics=topic_list)\n",
    "\n",
    "    graph.update_layout(margin=dict(l=20, r=20, t=20, b=20), width=width, height=height)\n",
    "\n",
    "    graph.update_yaxes(categoryorder='total descending')\n",
    "\n",
    "    if sort_yaxes:\n",
    "        graph.update_yaxes(categoryorder='array', categoryarray=versions)\n",
    "\n",
    "    return graph"
   ]
  },
  {
   "cell_type": "code",
   "execution_count": 3,
   "metadata": {},
   "outputs": [],
   "source": [
    "def get_documents_version(model, df, version, topic_num, connect='content_corrected'):\n",
    "\n",
    "    df_test2 = pd.merge(model.get_document_info(df['content_corrected']), df, left_on='Document', right_on=connect)\n",
    "\n",
    "    version_specific = df_test2[df_test2['reviewCreatedVersion'] == version][['content', 'content_corrected', 'Topic']]\n",
    "\n",
    "    return list(version_specific[version_specific['Topic'] == topic_num]['content'])"
   ]
  },
  {
   "cell_type": "code",
   "execution_count": 4,
   "metadata": {},
   "outputs": [],
   "source": [
    "def get_document_info_expand(model, df):\n",
    "\n",
    "    return pd.merge(model.get_document_info(df['content_corrected']), df, left_on='Document', right_on='content_corrected')"
   ]
  },
  {
   "attachments": {},
   "cell_type": "markdown",
   "metadata": {},
   "source": [
    "# Load data"
   ]
  },
  {
   "cell_type": "code",
   "execution_count": 5,
   "metadata": {},
   "outputs": [
    {
     "name": "stderr",
     "output_type": "stream",
     "text": [
      "/tmp/ipykernel_690/3651187523.py:5: DtypeWarning: Columns (8,9) have mixed types. Specify dtype option on import or set low_memory=False.\n",
      "  df_amazon = pd.read_csv(f'preprocessed_data/prep_amazon_v4.csv')\n"
     ]
    }
   ],
   "source": [
    "df_netflix = pd.read_csv(f'preprocessed_data/prep_netflix_v4.csv')\n",
    "df_youtube = pd.read_csv(f'preprocessed_data/prep_youtube_v4.csv')\n",
    "df_whatsapp = pd.read_csv(f'preprocessed_data/prep_whatsapp_v4.csv')\n",
    "df_paypal = pd.read_csv(f'preprocessed_data/prep_paypal_v4.csv')\n",
    "df_amazon = pd.read_csv(f'preprocessed_data/prep_amazon_v4.csv')"
   ]
  },
  {
   "attachments": {},
   "cell_type": "markdown",
   "metadata": {},
   "source": [
    "# Load old models"
   ]
  },
  {
   "cell_type": "code",
   "execution_count": 6,
   "metadata": {},
   "outputs": [
    {
     "name": "stderr",
     "output_type": "stream",
     "text": [
      "/home/denis/miniconda3/envs/cuml_test5/lib/python3.8/site-packages/cupy/_creation/from_data.py:76: PerformanceWarning: Using synchronous transfer as pinned memory (300512256 bytes) could not be allocated. This generally occurs because of insufficient host memory. The original error was: cudaErrorMemoryAllocation: out of memory\n",
      "  return _core.array(a, dtype, False, order)\n",
      "/home/denis/miniconda3/envs/cuml_test5/lib/python3.8/site-packages/cupy/_creation/from_data.py:76: PerformanceWarning: Using synchronous transfer as pinned memory (366249984 bytes) could not be allocated. This generally occurs because of insufficient host memory. The original error was: cudaErrorMemoryAllocation: out of memory\n",
      "  return _core.array(a, dtype, False, order)\n"
     ]
    }
   ],
   "source": [
    "topic_model_netflix = BERTopic.load('models/topicmodel_netflix_hdbscan_v1.model')\n",
    "topic_model_youtube = BERTopic.load('models/topicmodel_youtube_hdbscan_v1.model')\n",
    "topic_model_whatsapp = BERTopic.load('models/topicmodel_whatsapp_hdbscan_v1.model')\n",
    "topic_model_paypal = BERTopic.load('models/topicmodel_paypal_hdbscan_v1.model')\n",
    "topic_model_amazon = BERTopic.load('models/topicmodel_amazon_hdbscan_v1.model')"
   ]
  },
  {
   "attachments": {},
   "cell_type": "markdown",
   "metadata": {},
   "source": [
    "# Load new models (Outliers reduced)"
   ]
  },
  {
   "cell_type": "code",
   "execution_count": 6,
   "metadata": {},
   "outputs": [],
   "source": [
    "topic_model_netflix = BERTopic.load('models/topicmodel_netflix_hdbscan_v2.model')\n",
    "topic_model_youtube = BERTopic.load('models/topicmodel_youtube_hdbscan_v2.model')\n",
    "topic_model_whatsapp = BERTopic.load('models/topicmodel_whatsapp_hdbscan_v2.model')\n",
    "topic_model_paypal = BERTopic.load('models/topicmodel_paypal_hdbscan_v2.model')\n",
    "topic_model_amazon = BERTopic.load('models/topicmodel_amazon_hdbscan_v2.model')"
   ]
  },
  {
   "attachments": {},
   "cell_type": "markdown",
   "metadata": {},
   "source": [
    "# Visualization"
   ]
  },
  {
   "attachments": {},
   "cell_type": "markdown",
   "metadata": {},
   "source": [
    "## Netflix Version Specific Analysis"
   ]
  },
  {
   "cell_type": "code",
   "execution_count": null,
   "metadata": {},
   "outputs": [],
   "source": [
    "classes_complete_netflix = list(df_netflix['reviewCreatedVersion'])\n",
    "versions = list(set(classes_complete_netflix))\n",
    "versions.sort(key=lambda x: list(map(int, x.split(' ')[0].split('.'))))"
   ]
  },
  {
   "cell_type": "code",
   "execution_count": 8,
   "metadata": {},
   "outputs": [
    {
     "name": "stderr",
     "output_type": "stream",
     "text": [
      "442it [00:18, 24.09it/s]\n"
     ]
    }
   ],
   "source": [
    "topics_per_class_netflix = topic_model_netflix.topics_per_class(df_netflix['content_corrected'], classes=classes_complete_netflix)"
   ]
  },
  {
   "cell_type": "code",
   "execution_count": null,
   "metadata": {},
   "outputs": [],
   "source": [
    "df_info_netflix = get_document_info_expand(topic_model_netflix, df_netflix)"
   ]
  },
  {
   "cell_type": "code",
   "execution_count": 10,
   "metadata": {},
   "outputs": [],
   "source": [
    "visualize_version(\n",
    "    topic_model_netflix,\n",
    "    df_info_netflix,\n",
    "    topics_per_class_netflix,\n",
    "    ['8.64.0 build 8 50394'],\n",
    "    remove_outliers=False\n",
    "    )"
   ]
  },
  {
   "cell_type": "code",
   "execution_count": null,
   "metadata": {},
   "outputs": [],
   "source": [
    "get_documents_version(topic_model_netflix, df_netflix, '8.64.0 build 8 50394', 4)"
   ]
  },
  {
   "attachments": {},
   "cell_type": "markdown",
   "metadata": {},
   "source": [
    "## YouTube Version Specific Analysis"
   ]
  },
  {
   "cell_type": "code",
   "execution_count": 11,
   "metadata": {},
   "outputs": [],
   "source": [
    "classes_complete_youtube = list(df_youtube['reviewCreatedVersion'])\n",
    "versions = list(set(classes_complete_youtube))\n",
    "versions.sort(key=lambda x: list(map(int, x.split('.'))))"
   ]
  },
  {
   "cell_type": "code",
   "execution_count": null,
   "metadata": {},
   "outputs": [],
   "source": [
    "topics_per_class_youtube = topic_model_youtube.topics_per_class(df_youtube['content_corrected'], classes=classes_complete_youtube)"
   ]
  },
  {
   "cell_type": "code",
   "execution_count": 13,
   "metadata": {},
   "outputs": [],
   "source": [
    "df_info_youtube = get_document_info_expand(topic_model_youtube, df_youtube)"
   ]
  },
  {
   "cell_type": "code",
   "execution_count": 14,
   "metadata": {},
   "outputs": [],
   "source": [
    "visualize_version(\n",
    "    topic_model_youtube,\n",
    "    df_info_youtube,\n",
    "    topics_per_class_youtube,\n",
    "    ['18.14.37'],\n",
    ")"
   ]
  },
  {
   "cell_type": "code",
   "execution_count": null,
   "metadata": {},
   "outputs": [],
   "source": [
    "get_documents_version(topic_model_youtube, df_youtube, '18.14.37', 11)"
   ]
  },
  {
   "attachments": {},
   "cell_type": "markdown",
   "metadata": {},
   "source": [
    "## WhatsApp Version Specific analysis"
   ]
  },
  {
   "cell_type": "code",
   "execution_count": 15,
   "metadata": {},
   "outputs": [],
   "source": [
    "classes_complete_whatsapp = list(df_whatsapp['reviewCreatedVersion'])\n",
    "versions = list(set(classes_complete_whatsapp))\n",
    "versions.sort(key=lambda x: list(map(int, x.split('.'))))"
   ]
  },
  {
   "cell_type": "code",
   "execution_count": null,
   "metadata": {},
   "outputs": [],
   "source": [
    "topics_per_class_whatsapp = topic_model_whatsapp.topics_per_class(df_whatsapp['content_corrected'], classes=classes_complete_whatsapp)"
   ]
  },
  {
   "cell_type": "code",
   "execution_count": 17,
   "metadata": {},
   "outputs": [],
   "source": [
    "df_info_whatsapp = get_document_info_expand(topic_model_whatsapp, df_whatsapp)"
   ]
  },
  {
   "cell_type": "code",
   "execution_count": 18,
   "metadata": {},
   "outputs": [],
   "source": [
    "visualize_version(topic_model_whatsapp, df_info_whatsapp, topics_per_class_whatsapp, ['2.23.7.14'])"
   ]
  },
  {
   "cell_type": "code",
   "execution_count": null,
   "metadata": {},
   "outputs": [],
   "source": [
    "get_documents_version(topic_model_whatsapp, df_whatsapp, '2.23.7.14', 0)"
   ]
  },
  {
   "attachments": {},
   "cell_type": "markdown",
   "metadata": {},
   "source": [
    "## Paypal Version Specific Analysis"
   ]
  },
  {
   "cell_type": "code",
   "execution_count": 19,
   "metadata": {},
   "outputs": [],
   "source": [
    "classes_complete_paypal = list(df_paypal['reviewCreatedVersion'])\n",
    "versions = list(set(classes_complete_paypal))\n",
    "versions.sort(key=lambda x: list(map(int, x.split('.'))))"
   ]
  },
  {
   "cell_type": "code",
   "execution_count": null,
   "metadata": {},
   "outputs": [],
   "source": [
    "topics_per_class_paypal = topic_model_paypal.topics_per_class(df_paypal['content_corrected'], classes=classes_complete_paypal)"
   ]
  },
  {
   "cell_type": "code",
   "execution_count": 21,
   "metadata": {},
   "outputs": [],
   "source": [
    "df_info_paypal = get_document_info_expand(topic_model_paypal, df_paypal)"
   ]
  },
  {
   "cell_type": "code",
   "execution_count": 22,
   "metadata": {},
   "outputs": [],
   "source": [
    "visualize_version(topic_model_paypal, df_info_paypal, topics_per_class_paypal, ['8.37.1'])"
   ]
  },
  {
   "cell_type": "code",
   "execution_count": null,
   "metadata": {},
   "outputs": [],
   "source": [
    "get_documents_version(topic_model_paypal, df_paypal, '8.37.1', -1)"
   ]
  },
  {
   "attachments": {},
   "cell_type": "markdown",
   "metadata": {},
   "source": [
    "## Amazon Version Specific Analysis"
   ]
  },
  {
   "cell_type": "code",
   "execution_count": 23,
   "metadata": {},
   "outputs": [],
   "source": [
    "classes_complete_amazon = list(df_amazon['reviewCreatedVersion'])\n",
    "versions = list(set(classes_complete_amazon))\n",
    "versions.sort(key=lambda x: list(map(int, x.split('.'))))"
   ]
  },
  {
   "cell_type": "code",
   "execution_count": null,
   "metadata": {},
   "outputs": [],
   "source": [
    "topics_per_class_amazon = topic_model_amazon.topics_per_class(df_amazon['content_corrected'], classes=classes_complete_amazon)"
   ]
  },
  {
   "cell_type": "code",
   "execution_count": 25,
   "metadata": {},
   "outputs": [],
   "source": [
    "df_info_amazon = get_document_info_expand(topic_model_amazon, df_amazon)"
   ]
  },
  {
   "cell_type": "code",
   "execution_count": 26,
   "metadata": {},
   "outputs": [],
   "source": [
    "visualize_version(topic_model_amazon, df_info_amazon, topics_per_class_amazon, ['26.8.0.100'])"
   ]
  },
  {
   "cell_type": "code",
   "execution_count": null,
   "metadata": {},
   "outputs": [],
   "source": [
    "get_documents_version(topic_model_amazon, df_amazon, '26.8.0.100', 5)"
   ]
  }
 ],
 "metadata": {
  "kernelspec": {
   "display_name": "cuml_test5",
   "language": "python",
   "name": "python3"
  },
  "language_info": {
   "codemirror_mode": {
    "name": "ipython",
    "version": 3
   },
   "file_extension": ".py",
   "mimetype": "text/x-python",
   "name": "python",
   "nbconvert_exporter": "python",
   "pygments_lexer": "ipython3",
   "version": "3.8.16"
  },
  "orig_nbformat": 4
 },
 "nbformat": 4,
 "nbformat_minor": 2
}
