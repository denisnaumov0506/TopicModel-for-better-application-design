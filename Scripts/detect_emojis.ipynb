{
 "cells": [
  {
   "cell_type": "code",
   "execution_count": 4,
   "metadata": {},
   "outputs": [],
   "source": [
    "import pandas as pd\n",
    "import emoji"
   ]
  },
  {
   "cell_type": "code",
   "execution_count": 2,
   "metadata": {},
   "outputs": [],
   "source": [
    "df_netflix = pd.read_json(f'app_reviews/netflix_reviews_all.json')\n",
    "df_youtube = pd.read_json(f'app_reviews/youtube_reviews_all.json')\n",
    "df_whatsapp = pd.read_json(f'app_reviews/whatsapp_reviews_all.json')\n",
    "df_paypal = pd.read_json(f'app_reviews/paypal_reviews_all.json')\n",
    "df_amazon = pd.read_json(f'app_reviews/amazon_shop_reviews_all.json')\n",
    "\n",
    "app_frames = [df_netflix, df_youtube, df_whatsapp, df_paypal, df_amazon]"
   ]
  },
  {
   "cell_type": "code",
   "execution_count": 17,
   "metadata": {},
   "outputs": [],
   "source": [
    "for frame in app_frames:\n",
    "    frame.dropna(subset='content', inplace=True)\n",
    "    frame['emoji_count'] = frame['content'].apply(lambda x: emoji.emoji_count(x))"
   ]
  },
  {
   "cell_type": "code",
   "execution_count": 15,
   "metadata": {},
   "outputs": [
    {
     "data": {
      "text/html": [
       "<div>\n",
       "<style scoped>\n",
       "    .dataframe tbody tr th:only-of-type {\n",
       "        vertical-align: middle;\n",
       "    }\n",
       "\n",
       "    .dataframe tbody tr th {\n",
       "        vertical-align: top;\n",
       "    }\n",
       "\n",
       "    .dataframe thead th {\n",
       "        text-align: right;\n",
       "    }\n",
       "</style>\n",
       "<table border=\"1\" class=\"dataframe\">\n",
       "  <thead>\n",
       "    <tr style=\"text-align: right;\">\n",
       "      <th></th>\n",
       "      <th>reviewId</th>\n",
       "      <th>userName</th>\n",
       "      <th>userImage</th>\n",
       "      <th>content</th>\n",
       "      <th>score</th>\n",
       "      <th>thumbsUpCount</th>\n",
       "      <th>reviewCreatedVersion</th>\n",
       "      <th>at</th>\n",
       "      <th>replyContent</th>\n",
       "      <th>repliedAt</th>\n",
       "      <th>emoji_count</th>\n",
       "    </tr>\n",
       "  </thead>\n",
       "  <tbody>\n",
       "    <tr>\n",
       "      <th>18</th>\n",
       "      <td>9ba80250-fc6f-4b23-a6dd-f5ee4bc279be</td>\n",
       "      <td>Jazzy One</td>\n",
       "      <td>https://play-lh.googleusercontent.com/a-/ACB-R...</td>\n",
       "      <td>I really love Netflix, love a lot of the shows...</td>\n",
       "      <td>3</td>\n",
       "      <td>84</td>\n",
       "      <td>8.62.0 build 7 50386</td>\n",
       "      <td>2023-04-01T05:48:20</td>\n",
       "      <td>NaN</td>\n",
       "      <td>NaN</td>\n",
       "      <td>3</td>\n",
       "    </tr>\n",
       "    <tr>\n",
       "      <th>24</th>\n",
       "      <td>db0ea862-d506-4613-a86a-040ddf3f4d75</td>\n",
       "      <td>Paul Tremonti</td>\n",
       "      <td>https://play-lh.googleusercontent.com/a-/ACB-R...</td>\n",
       "      <td>They went back to the old interface(added 2 ⭐)...</td>\n",
       "      <td>1</td>\n",
       "      <td>373</td>\n",
       "      <td>8.61.0 build 4 50379</td>\n",
       "      <td>2023-03-21T03:05:54</td>\n",
       "      <td>NaN</td>\n",
       "      <td>NaN</td>\n",
       "      <td>2</td>\n",
       "    </tr>\n",
       "    <tr>\n",
       "      <th>36</th>\n",
       "      <td>99bf961f-c3f6-4db3-89b5-8f2a8f9a20f1</td>\n",
       "      <td>That Girl Courtney</td>\n",
       "      <td>https://play-lh.googleusercontent.com/a-/ACB-R...</td>\n",
       "      <td>Used to love Netflix but not sure what is goin...</td>\n",
       "      <td>3</td>\n",
       "      <td>26</td>\n",
       "      <td>8.56.0 build 12 50352</td>\n",
       "      <td>2023-02-03T17:12:06</td>\n",
       "      <td>NaN</td>\n",
       "      <td>NaN</td>\n",
       "      <td>1</td>\n",
       "    </tr>\n",
       "    <tr>\n",
       "      <th>118</th>\n",
       "      <td>db86e938-6c13-4294-98e6-e3d3ae2a5660</td>\n",
       "      <td>Jessica Davys</td>\n",
       "      <td>https://play-lh.googleusercontent.com/a-/ACB-R...</td>\n",
       "      <td>Amazing! Love that you can download series/mov...</td>\n",
       "      <td>5</td>\n",
       "      <td>0</td>\n",
       "      <td>8.64.0 build 8 50394</td>\n",
       "      <td>2023-04-13T04:11:43</td>\n",
       "      <td>NaN</td>\n",
       "      <td>NaN</td>\n",
       "      <td>3</td>\n",
       "    </tr>\n",
       "    <tr>\n",
       "      <th>120</th>\n",
       "      <td>47177178-0fb3-4c88-922e-639212717f36</td>\n",
       "      <td>Marvellous Madu</td>\n",
       "      <td>https://play-lh.googleusercontent.com/a-/ACB-R...</td>\n",
       "      <td>I had initially made a complaint about the app...</td>\n",
       "      <td>4</td>\n",
       "      <td>1</td>\n",
       "      <td>8.63.0 build 16 50390</td>\n",
       "      <td>2023-04-10T00:33:44</td>\n",
       "      <td>NaN</td>\n",
       "      <td>NaN</td>\n",
       "      <td>3</td>\n",
       "    </tr>\n",
       "    <tr>\n",
       "      <th>...</th>\n",
       "      <td>...</td>\n",
       "      <td>...</td>\n",
       "      <td>...</td>\n",
       "      <td>...</td>\n",
       "      <td>...</td>\n",
       "      <td>...</td>\n",
       "      <td>...</td>\n",
       "      <td>...</td>\n",
       "      <td>...</td>\n",
       "      <td>...</td>\n",
       "      <td>...</td>\n",
       "    </tr>\n",
       "    <tr>\n",
       "      <th>403016</th>\n",
       "      <td>17b0fa81-87f5-48f9-8345-e8512b3f18d6</td>\n",
       "      <td>Ajinkya Shinde</td>\n",
       "      <td>https://play-lh.googleusercontent.com/a-/ACB-R...</td>\n",
       "      <td>Awesome 👌👌</td>\n",
       "      <td>5</td>\n",
       "      <td>1</td>\n",
       "      <td>7.53.3 build 31 34824</td>\n",
       "      <td>2020-05-04T19:57:39</td>\n",
       "      <td>NaN</td>\n",
       "      <td>NaN</td>\n",
       "      <td>2</td>\n",
       "    </tr>\n",
       "    <tr>\n",
       "      <th>403021</th>\n",
       "      <td>3965efc8-6ee1-4c74-a683-2f398401d0da</td>\n",
       "      <td>Carol Mora</td>\n",
       "      <td>https://play-lh.googleusercontent.com/a-/ACB-R...</td>\n",
       "      <td>💌💘💝💖💗💓💞💕💟❣❤🧡💛💚💙💜🤎🖤🤍</td>\n",
       "      <td>5</td>\n",
       "      <td>0</td>\n",
       "      <td>7.53.3 build 31 34824</td>\n",
       "      <td>2020-04-28T22:09:43</td>\n",
       "      <td>NaN</td>\n",
       "      <td>NaN</td>\n",
       "      <td>19</td>\n",
       "    </tr>\n",
       "    <tr>\n",
       "      <th>403022</th>\n",
       "      <td>c3dd6477-764e-4b9c-a2f0-5276d6f020c3</td>\n",
       "      <td>Nthabeleng Mokomatsili</td>\n",
       "      <td>https://play-lh.googleusercontent.com/a/AGNmyx...</td>\n",
       "      <td>Amazing 💓💓</td>\n",
       "      <td>5</td>\n",
       "      <td>0</td>\n",
       "      <td>7.53.3 build 31 34824</td>\n",
       "      <td>2020-06-25T16:20:53</td>\n",
       "      <td>NaN</td>\n",
       "      <td>NaN</td>\n",
       "      <td>2</td>\n",
       "    </tr>\n",
       "    <tr>\n",
       "      <th>403025</th>\n",
       "      <td>699fdab5-82e2-47a1-9be7-6813ca417993</td>\n",
       "      <td>Sheshrao Nerkar</td>\n",
       "      <td>https://play-lh.googleusercontent.com/a/AGNmyx...</td>\n",
       "      <td>♥️</td>\n",
       "      <td>5</td>\n",
       "      <td>0</td>\n",
       "      <td>7.53.3 build 31 34824</td>\n",
       "      <td>2020-05-25T10:58:15</td>\n",
       "      <td>NaN</td>\n",
       "      <td>NaN</td>\n",
       "      <td>1</td>\n",
       "    </tr>\n",
       "    <tr>\n",
       "      <th>403026</th>\n",
       "      <td>4173d08e-0449-4117-97f7-f469550ddc47</td>\n",
       "      <td>Marion Stewart</td>\n",
       "      <td>https://play-lh.googleusercontent.com/a/AGNmyx...</td>\n",
       "      <td>Excellent💣💣💣</td>\n",
       "      <td>5</td>\n",
       "      <td>0</td>\n",
       "      <td>7.53.3 build 31 34824</td>\n",
       "      <td>2020-07-26T04:03:55</td>\n",
       "      <td>NaN</td>\n",
       "      <td>NaN</td>\n",
       "      <td>3</td>\n",
       "    </tr>\n",
       "  </tbody>\n",
       "</table>\n",
       "<p>36489 rows × 11 columns</p>\n",
       "</div>"
      ],
      "text/plain": [
       "                                    reviewId                userName  \\\n",
       "18      9ba80250-fc6f-4b23-a6dd-f5ee4bc279be               Jazzy One   \n",
       "24      db0ea862-d506-4613-a86a-040ddf3f4d75           Paul Tremonti   \n",
       "36      99bf961f-c3f6-4db3-89b5-8f2a8f9a20f1      That Girl Courtney   \n",
       "118     db86e938-6c13-4294-98e6-e3d3ae2a5660           Jessica Davys   \n",
       "120     47177178-0fb3-4c88-922e-639212717f36         Marvellous Madu   \n",
       "...                                      ...                     ...   \n",
       "403016  17b0fa81-87f5-48f9-8345-e8512b3f18d6          Ajinkya Shinde   \n",
       "403021  3965efc8-6ee1-4c74-a683-2f398401d0da              Carol Mora   \n",
       "403022  c3dd6477-764e-4b9c-a2f0-5276d6f020c3  Nthabeleng Mokomatsili   \n",
       "403025  699fdab5-82e2-47a1-9be7-6813ca417993         Sheshrao Nerkar   \n",
       "403026  4173d08e-0449-4117-97f7-f469550ddc47          Marion Stewart   \n",
       "\n",
       "                                                userImage  \\\n",
       "18      https://play-lh.googleusercontent.com/a-/ACB-R...   \n",
       "24      https://play-lh.googleusercontent.com/a-/ACB-R...   \n",
       "36      https://play-lh.googleusercontent.com/a-/ACB-R...   \n",
       "118     https://play-lh.googleusercontent.com/a-/ACB-R...   \n",
       "120     https://play-lh.googleusercontent.com/a-/ACB-R...   \n",
       "...                                                   ...   \n",
       "403016  https://play-lh.googleusercontent.com/a-/ACB-R...   \n",
       "403021  https://play-lh.googleusercontent.com/a-/ACB-R...   \n",
       "403022  https://play-lh.googleusercontent.com/a/AGNmyx...   \n",
       "403025  https://play-lh.googleusercontent.com/a/AGNmyx...   \n",
       "403026  https://play-lh.googleusercontent.com/a/AGNmyx...   \n",
       "\n",
       "                                                  content  score  \\\n",
       "18      I really love Netflix, love a lot of the shows...      3   \n",
       "24      They went back to the old interface(added 2 ⭐)...      1   \n",
       "36      Used to love Netflix but not sure what is goin...      3   \n",
       "118     Amazing! Love that you can download series/mov...      5   \n",
       "120     I had initially made a complaint about the app...      4   \n",
       "...                                                   ...    ...   \n",
       "403016                                         Awesome 👌👌      5   \n",
       "403021                                💌💘💝💖💗💓💞💕💟❣❤🧡💛💚💙💜🤎🖤🤍      5   \n",
       "403022                                         Amazing 💓💓      5   \n",
       "403025                                                 ♥️      5   \n",
       "403026                                       Excellent💣💣💣      5   \n",
       "\n",
       "        thumbsUpCount   reviewCreatedVersion                   at  \\\n",
       "18                 84   8.62.0 build 7 50386  2023-04-01T05:48:20   \n",
       "24                373   8.61.0 build 4 50379  2023-03-21T03:05:54   \n",
       "36                 26  8.56.0 build 12 50352  2023-02-03T17:12:06   \n",
       "118                 0   8.64.0 build 8 50394  2023-04-13T04:11:43   \n",
       "120                 1  8.63.0 build 16 50390  2023-04-10T00:33:44   \n",
       "...               ...                    ...                  ...   \n",
       "403016              1  7.53.3 build 31 34824  2020-05-04T19:57:39   \n",
       "403021              0  7.53.3 build 31 34824  2020-04-28T22:09:43   \n",
       "403022              0  7.53.3 build 31 34824  2020-06-25T16:20:53   \n",
       "403025              0  7.53.3 build 31 34824  2020-05-25T10:58:15   \n",
       "403026              0  7.53.3 build 31 34824  2020-07-26T04:03:55   \n",
       "\n",
       "        replyContent  repliedAt  emoji_count  \n",
       "18               NaN        NaN            3  \n",
       "24               NaN        NaN            2  \n",
       "36               NaN        NaN            1  \n",
       "118              NaN        NaN            3  \n",
       "120              NaN        NaN            3  \n",
       "...              ...        ...          ...  \n",
       "403016           NaN        NaN            2  \n",
       "403021           NaN        NaN           19  \n",
       "403022           NaN        NaN            2  \n",
       "403025           NaN        NaN            1  \n",
       "403026           NaN        NaN            3  \n",
       "\n",
       "[36489 rows x 11 columns]"
      ]
     },
     "execution_count": 15,
     "metadata": {},
     "output_type": "execute_result"
    }
   ],
   "source": [
    "df_netflix[df_netflix['emoji_count'] > 0]"
   ]
  },
  {
   "cell_type": "code",
   "execution_count": 16,
   "metadata": {},
   "outputs": [
    {
     "data": {
      "text/plain": [
       "114016"
      ]
     },
     "execution_count": 16,
     "metadata": {},
     "output_type": "execute_result"
    }
   ],
   "source": [
    "sum(df_netflix['emoji_count'])"
   ]
  },
  {
   "cell_type": "code",
   "execution_count": 18,
   "metadata": {},
   "outputs": [
    {
     "data": {
      "text/plain": [
       "37176"
      ]
     },
     "execution_count": 18,
     "metadata": {},
     "output_type": "execute_result"
    }
   ],
   "source": [
    "sum(df_youtube['emoji_count'])"
   ]
  },
  {
   "cell_type": "code",
   "execution_count": 19,
   "metadata": {},
   "outputs": [
    {
     "data": {
      "text/plain": [
       "27105"
      ]
     },
     "execution_count": 19,
     "metadata": {},
     "output_type": "execute_result"
    }
   ],
   "source": [
    "sum(df_whatsapp['emoji_count'])"
   ]
  },
  {
   "cell_type": "code",
   "execution_count": 20,
   "metadata": {},
   "outputs": [
    {
     "data": {
      "text/plain": [
       "10542"
      ]
     },
     "execution_count": 20,
     "metadata": {},
     "output_type": "execute_result"
    }
   ],
   "source": [
    "sum(df_paypal['emoji_count'])"
   ]
  },
  {
   "cell_type": "code",
   "execution_count": 21,
   "metadata": {},
   "outputs": [
    {
     "data": {
      "text/plain": [
       "21282"
      ]
     },
     "execution_count": 21,
     "metadata": {},
     "output_type": "execute_result"
    }
   ],
   "source": [
    "sum(df_amazon['emoji_count'])"
   ]
  }
 ],
 "metadata": {
  "kernelspec": {
   "display_name": "cuml_test5",
   "language": "python",
   "name": "python3"
  },
  "language_info": {
   "codemirror_mode": {
    "name": "ipython",
    "version": 3
   },
   "file_extension": ".py",
   "mimetype": "text/x-python",
   "name": "python",
   "nbconvert_exporter": "python",
   "pygments_lexer": "ipython3",
   "version": "3.8.16"
  },
  "orig_nbformat": 4
 },
 "nbformat": 4,
 "nbformat_minor": 2
}
